{
 "cells": [
  {
   "cell_type": "code",
   "execution_count": 26,
   "id": "45636fec",
   "metadata": {},
   "outputs": [],
   "source": [
    "import numpy as np\n",
    "import pandas as pd\n",
    "from matplotlib import pyplot as plt\n",
    "from methods.pca import pca as my_pca\n",
    "from sklearn.decomposition import PCA\n",
    "from sklearn.tree import DecisionTreeClassifier\n",
    "from sklearn.model_selection import train_test_split\n",
    "from sklearn.metrics import classification_report\n",
    "from sklearn.preprocessing import StandardScaler"
   ]
  },
  {
   "cell_type": "code",
   "execution_count": 27,
   "id": "e4b6fef9",
   "metadata": {},
   "outputs": [
    {
     "name": "stdout",
     "output_type": "stream",
     "text": [
      "              precision    recall  f1-score   support\n",
      "\n",
      "        Good       0.98      0.98      0.98       540\n",
      "   Hazardous       0.79      0.74      0.76       112\n",
      "    Moderate       0.90      0.88      0.89       358\n",
      "        Poor       0.75      0.80      0.78       240\n",
      "\n",
      "    accuracy                           0.90      1250\n",
      "   macro avg       0.86      0.85      0.85      1250\n",
      "weighted avg       0.90      0.90      0.90      1250\n",
      "\n",
      "None\n",
      "              precision    recall  f1-score   support\n",
      "\n",
      "        Good       0.98      0.98      0.98       493\n",
      "   Hazardous       0.76      0.77      0.76       128\n",
      "    Moderate       0.85      0.86      0.85       359\n",
      "        Poor       0.73      0.72      0.73       270\n",
      "\n",
      "    accuracy                           0.87      1250\n",
      "   macro avg       0.83      0.83      0.83      1250\n",
      "weighted avg       0.87      0.87      0.87      1250\n",
      "\n",
      "None\n"
     ]
    }
   ],
   "source": [
    "data = pd.read_csv('data/pollution_dataset.csv')\n",
    "X, y = data.drop(\"Air Quality\", axis=1), data[\"Air Quality\"]\n",
    "scaler = StandardScaler()\n",
    "X = scaler.fit_transform(X)\n",
    "\n",
    "my_model = my_pca(n_components=3)\n",
    "my_pca_result = my_model.fit_transform(X.copy())\n",
    "\n",
    "sklearn_model = PCA(n_components=3)\n",
    "sklearn_pca_result = sklearn_model.fit_transform(X.copy())\n",
    "\n",
    "def evaluate_pca(pca_df, y):\n",
    "    X_train, X_test, y_train, y_test = train_test_split(pca_df, y)\n",
    "    clf = DecisionTreeClassifier()\n",
    "    clf.fit(X_train, y_train)\n",
    "    y_pred = clf.predict(X_test)\n",
    "    print(classification_report(y_test, y_pred))\n",
    "\n",
    "print(evaluate_pca(my_pca_result, y))\n",
    "print(evaluate_pca(sklearn_pca_result, y))"
   ]
  }
 ],
 "metadata": {
  "kernelspec": {
   "display_name": "Python 3",
   "language": "python",
   "name": "python3"
  },
  "language_info": {
   "codemirror_mode": {
    "name": "ipython",
    "version": 3
   },
   "file_extension": ".py",
   "mimetype": "text/x-python",
   "name": "python",
   "nbconvert_exporter": "python",
   "pygments_lexer": "ipython3",
   "version": "3.12.4"
  }
 },
 "nbformat": 4,
 "nbformat_minor": 5
}
